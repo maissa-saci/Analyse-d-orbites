{
 "cells": [
  {
   "cell_type": "markdown",
   "id": "continent-observation",
   "metadata": {},
   "source": [
    "# Projet : Gravitation et orbites"
   ]
  },
  {
   "cell_type": "markdown",
   "id": "logical-management",
   "metadata": {},
   "source": [
    "![Image d'un planétaire, par Birmingham Museums Trust](orrery.jpg)\n",
    "\n",
    "Dans ce projet, vous allez étudier la physique des orbites des planètes, dont des exoplanètes. À l'échelle du système solaire, le comportement des corps célestes se décrit, à une très bonne approximation, par les lois de Newton (chapitre 2, section 3 des notes de cours) et par la force gravitationnelle (chapitre 2, section 8.1 des NoC). Avec cette liste courte de principes et d'équations, on peut, en principe, décrire avec précision l'évolution temporelle du système -- c'est-à-dire, les orbites des planètes. Cependant, des résolutions analytiques des systèmes à plusieurs corps s'avèrent difficiles, voire impossibles. On a recours, donc, à une résolution numérique.\n",
    "\n",
    "Les compétences à acquérir sont les suivantes :\n",
    "\n",
    "+ La physique des forces, la gravitation, les lois de Newton.\n",
    "+ La manipulation des vecteurs.\n",
    "+ Les changements d'unités.\n",
    "+ L'analyse des données, l'ajustement d'un modèle linéaire aux données.\n",
    "+ La résolution d'un problème par la méthode numérique d'itération.\n",
    "+ Une compréhension des limites de la méthode, et comment évaluer son domaine de validité."
   ]
  },
  {
   "cell_type": "markdown",
   "id": "engaged-seating",
   "metadata": {},
   "source": [
    "---"
   ]
  },
  {
   "cell_type": "markdown",
   "id": "orange-messenger",
   "metadata": {},
   "source": [
    "# 1. Introduction : Les exoplanetes, et la troisième loi de Kepler\n",
    "\n",
    "L'astronome Kepler a identifié trois lois décrivant les orbites des planètes autour d'un astre, dont la troisième est la suivante :\n",
    "$$\\left( \\frac{2\\pi}{P} \\right)^2 \\, a^3 = k$$\n",
    "où\n",
    "$P$ est la période de révolution (techniquement, la période sidérale) de la planète,\n",
    "$a$ est le demi-grand axe de la trajectoire elliptique de la planète, et\n",
    "$k$ est une constante.\n",
    "\n",
    "Newton a montré que la constante $k$ est donnée par la formule suivante :\n",
    "$$k = \\mathcal{G} (M+m) \\approx \\mathcal{G} M$$\n",
    "où\n",
    "$m$ est la masse de la planète,\n",
    "$M$ est la masse de l'astre, et\n",
    "$\\mathcal{G}$ est la constante gravitationnelle : $\\mathcal{G} = 6,674 \\times 10^{-11} \\, \\mathrm{m}^3 \\, \\mathrm{kg}^{-1} \\, \\mathrm{s}^{-2}$.\n",
    "L'approximation $\\mathcal{G}(M+m) \\approx \\mathcal{G}M$ est valable dans la limite où la masse de l'astre est grande devant celle de la planète. Dans cette limite, la valeur de $k$ est identique pour toutes les planètes d'un système solaire.\n",
    "\n",
    "Kepler étudiait notre système solaire, mais ses lois doivent s'appliquer plus largement.\n",
    "La NASA a rassemblé [une base de données d'observations d'exoplanètes](https://exoplanetarchive.ipac.caltech.edu/cgi-bin/TblView/nph-tblView?app=ExoTbls&config=PS),\n",
    "c'est-à-dire des planètes se situant dans des systèmes solaires autres que le nôtre.\n",
    "Dans le fichier ```nasa-exoplanetes.csv```, vous trouverez une fraction de ces données, dans un format adapté à la lecture par un code python.\n",
    "Les données se regroupent sous la forme de quatre colonnes et plusieurs rangées (lignes).\n",
    "Ces quatres colonnes représentent :\n",
    "\n",
    "1. la période de l'orbite de la planète, $P$, en jours ;\n",
    "2. le demi-[grand axe](https://fr.wikipedia.org/wiki/Grand_axe) de la trajectoire, $a$, en au ([unités astronomique](https://fr.wikipedia.org/wiki/Unit%C3%A9_astronomique)) ;\n",
    "3. la masse de la planète, $m$, en unités de [masses terrestres](https://fr.wikipedia.org/wiki/Masse_terrestre_(unit%C3%A9)) (1 $M_T$ = la masse de la Terre) ;\n",
    "4. la masse de l'astre, $M$, en unités de [masses solaires](https://fr.wikipedia.org/wiki/Masse_solaire) (1 $M_S$ = la masse du Soleil).\n",
    "\n",
    "Dans cette première partie, nous allons lire et étudier ces données afin de tester la théorie de Kepler.\n",
    "\n",
    "### Étape 1 : lecture du fichier\n",
    "\n",
    "[Q1] En utilisant ```numpy```, lire le contenu du fichier CSV et stocker le dans un tableau (array) bidimensionnel que vous appelerez `fiche`.\n",
    "(Par exemple, la méthode ```numpy.loadtxt()``` permettrait d'obtenir un tel tableau.)"
   ]
  },
  {
   "cell_type": "code",
   "execution_count": 14,
   "id": "patient-silly",
   "metadata": {},
   "outputs": [],
   "source": [
    "# [Q1 : votre code ici]\n",
    "import numpy as np \n",
    "fiche = np.loadtxt(\"nasa-exoplanetes.csv\",delimiter = \",\")"
   ]
  },
  {
   "cell_type": "markdown",
   "id": "facial-technology",
   "metadata": {},
   "source": [
    "### Étape 2 : calcul\n",
    "\n",
    "Ensuite, nous allons traiter les données, une ligne à la fois.\n",
    "Pour ce faire, il vous faudra une boucle `for`.\n",
    "**Pour chaque planète** (chaque ligne du tableau) :\n",
    "\n",
    "+ [Q2] Extraire les paramètres $P$, $a$, $m$, et $M$.\n",
    "+ [Q3] Calculer la valeur de $f = \\frac{a^3}{P^2 M}$ et imprimer sa valeur sous une forme semblable à la suivante :\n",
    "```La valeur de f de la [...]ième planète est [...] au^3 jour^-2 MS^-1```\n",
    "(où vous remplacerez les ```[...]``` par des chiffres). Stocker cette valeur dans un array."
   ]
  },
  {
   "cell_type": "code",
   "execution_count": 15,
   "id": "conditional-prefix",
   "metadata": {},
   "outputs": [
    {
     "name": "stdout",
     "output_type": "stream",
     "text": [
      "La valeur de f de la 1ième planète est 5.452777379342096e-05 au^3 jour^-2 MS^-1\n",
      "La valeur de f de la 2ième planète est 2.466976512270112e-05 au^3 jour^-2 MS^-1\n",
      "La valeur de f de la 3ième planète est 3.642323906678039e-05 au^3 jour^-2 MS^-1\n",
      "La valeur de f de la 4ième planète est 7.046087166102693e-06 au^3 jour^-2 MS^-1\n",
      "La valeur de f de la 5ième planète est 7.218808231303212e-06 au^3 jour^-2 MS^-1\n",
      "La valeur de f de la 6ième planète est 4.0971985371555514e-05 au^3 jour^-2 MS^-1\n",
      "La valeur de f de la 7ième planète est 7.371594466399159e-06 au^3 jour^-2 MS^-1\n",
      "La valeur de f de la 8ième planète est 1.7790916965130197e-05 au^3 jour^-2 MS^-1\n",
      "La valeur de f de la 9ième planète est 1.777416954708865e-05 au^3 jour^-2 MS^-1\n",
      "La valeur de f de la 10ième planète est 2.1598224852071006e-06 au^3 jour^-2 MS^-1\n",
      "La valeur de f de la 11ième planète est 1.0176029933029072e-05 au^3 jour^-2 MS^-1\n",
      "La valeur de f de la 12ième planète est 1.1168379491658379e-05 au^3 jour^-2 MS^-1\n",
      "La valeur de f de la 13ième planète est 7.194731947350839e-06 au^3 jour^-2 MS^-1\n",
      "La valeur de f de la 14ième planète est 7.606443832135205e-06 au^3 jour^-2 MS^-1\n",
      "La valeur de f de la 15ième planète est 7.616539501637456e-06 au^3 jour^-2 MS^-1\n",
      "La valeur de f de la 16ième planète est 8.42223118781579e-06 au^3 jour^-2 MS^-1\n",
      "La valeur de f de la 17ième planète est 6.181735927195374e-06 au^3 jour^-2 MS^-1\n",
      "La valeur de f de la 18ième planète est 6.082931861158118e-06 au^3 jour^-2 MS^-1\n"
     ]
    }
   ],
   "source": [
    "# [votre code ici pour Q2]\n",
    "\n",
    "\n",
    "f2=[]\n",
    "\n",
    "for i in range(18):\n",
    "    \n",
    "    P=fiche[i,0]\n",
    "    a=fiche[i,1]\n",
    "    m=fiche[i,2]\n",
    "    M=fiche[i,3]\n",
    "\n",
    "# [votre code ici pour Q3, utilisant une boucle 'for']\n",
    "\n",
    "    f1=a**3/P**2*M\n",
    "    \n",
    "    f2.append(f1)\n",
    "    \n",
    "    print(f\"La valeur de f de la {i+1}ième planète est {f1} au^3 jour^-2 MS^-1\")\n"
   ]
  },
  {
   "cell_type": "markdown",
   "id": "soviet-charles",
   "metadata": {},
   "source": [
    "[Q4] Que constatez-vous ?"
   ]
  },
  {
   "cell_type": "markdown",
   "id": "insured-joyce",
   "metadata": {},
   "source": [
    "Nous constatons que les valeurs de \"f\" sont très petites, ce qui suggère que les orbites sont stables, conformément aux lois de Kepler. De plus, les variations des valeurs de \"f\" de chaque planète indiquent une différence significative dans leurs propriétés orbitales respectives. Nous notons aussi une seule relation inverse, entre la valeur de \"f\" et la période \"P\"."
   ]
  },
  {
   "cell_type": "markdown",
   "id": "special-oasis",
   "metadata": {},
   "source": [
    "[Q5] Calculer la moyenne et l'écart-type de l'ensemble de vos valeurs de $f$\n",
    "(en utilisant ```numpy.mean()``` et ```numpy.std()``` ou autrement)."
   ]
  },
  {
   "cell_type": "code",
   "execution_count": 16,
   "id": "innocent-spotlight",
   "metadata": {},
   "outputs": [
    {
     "name": "stdout",
     "output_type": "stream",
     "text": [
      "La moyenne et l'écart-type de l'ensemble de nos valeurs de f sont 1.5577954772092737e-05 et 1.4052269141465652e-05\n"
     ]
    }
   ],
   "source": [
    "# [votre code ici pour Q5]\n",
    "\n",
    "\n",
    "m=np.mean(f2)\n",
    "e=np.std(f2)\n",
    "\n",
    "print(f\"La moyenne et l'écart-type de l'ensemble de nos valeurs de f sont {m} et {e}\")\n"
   ]
  },
  {
   "cell_type": "markdown",
   "id": "searching-cameroon",
   "metadata": {},
   "source": [
    "### Étape 3 : graphique\n",
    "\n",
    "Il convient de visualiser des données sous forme d'un graphique.\n",
    "\n",
    "[Q6] Pour chaque planète, calculer les deux quantités suivantes. Stockez-les dans des arrays (un array pour les $x$, un autre pour les $y$).\n",
    "\n",
    "+ les abscisses $x = P^2 M$\n",
    "+ les ordonnées $y = a^3$\n",
    "\n",
    "et puis tracer un nuage de points (en utilisant ```matplotlib.pyplot.scatter()``` ou autrement). N'oubliez pas d'ajouter un titre et nommer vos axes (avec les bonnes unités)."
   ]
  },
  {
   "cell_type": "code",
   "execution_count": 17,
   "id": "confidential-yukon",
   "metadata": {},
   "outputs": [
    {
     "data": {
      "image/png": "[encoded data removed]",
      "text/plain": [
       "<Figure size 640x480 with 1 Axes>"
      ]
     },
     "metadata": {},
     "output_type": "display_data"
    }
   ],
   "source": [
    "# [votre code ici pour Q6]\n",
    "import matplotlib.pyplot as plt\n",
    "\n",
    "x1=[]\n",
    "y1=[]\n",
    "\n",
    "for i in range(18):\n",
    "    \n",
    "    \n",
    "    P=fiche[i,0]\n",
    "    a=fiche[i,1]\n",
    "    m=fiche[i,2]\n",
    "    M=fiche[i,3]\n",
    "\n",
    "    x=P**2*M\n",
    "    y=a**3\n",
    "    \n",
    "    x1.append(x)\n",
    "    y1.append(y)\n",
    "    \n",
    "plt.scatter(x1, y1, marker='o', color='b')\n",
    "plt.title(\"Nuage de points : x = P^2 * M et y = a^3 pour les planètes\")\n",
    "plt.xlabel(\"x (au^3 jour^-2 MS^-1)\")\n",
    "plt.ylabel(\"y (au^3)\")\n",
    "plt.grid()\n",
    "\n"
   ]
  },
  {
   "cell_type": "markdown",
   "id": "inclusive-florence",
   "metadata": {},
   "source": [
    "### Étape 4 : ajustement et interpretation\n",
    "\n",
    "[Q7] Effectuer un ajustement linéaire aux données (avec ```numpy.polyfit()``` ou autrement).\n",
    "Dessiner un graphique incluant la fonction ajustée et les données (sous forme d'un nuage de points)."
   ]
  },
  {
   "cell_type": "code",
   "execution_count": 18,
   "id": "capital-education",
   "metadata": {},
   "outputs": [
    {
     "data": {
      "image/png": "[encoded data removed]",
      "text/plain": [
       "<Figure size 640x480 with 1 Axes>"
      ]
     },
     "metadata": {},
     "output_type": "display_data"
    }
   ],
   "source": [
    "# [votre code ici pour Q7]\n",
    "\n",
    "coefficients = np.polyfit(x1, y1, 1)\n",
    "a, b = coefficients\n",
    "\n",
    "fitted_function = lambda x: a * x + b\n",
    "\n",
    "plt.scatter(x1, y1, marker='o', color='g', label=\"Données\")\n",
    "plt.title(\"Ajustement linéaire : y = a * x + b\")\n",
    "plt.xlabel(\"x (au^3 jour^-2 MS^-1)\")\n",
    "plt.ylabel(\"y (au^3)\")\n",
    "\n",
    "x_fit = np.linspace(min(x1), max(x1), 100)\n",
    "y_fit = fitted_function(x_fit)\n",
    "plt.plot(x_fit, y_fit, color='r', linestyle='--', label=\"Ajustement linéaire\")\n",
    "\n",
    "plt.legend()\n",
    "plt.grid(True)\n",
    "plt.show()\n",
    "\n",
    "\n"
   ]
  },
  {
   "cell_type": "markdown",
   "id": "frequent-today",
   "metadata": {},
   "source": [
    "[Q8] Commenter l'ajustement. (Les données, sont-elles cohérentes avec la fonction ?)\n",
    "\n",
    "\n",
    "[Q9] Selon la loi de Kepler, la droite passe par l'origine. Est-ce bien le cas ? (L'ordonnée à l'origine, est-elle cohérente avec zéro ?) Que vaut le coefficient directeur de la droite ? Est-il cohérent avec la moyenne calculée précédemment ?"
   ]
  },
  {
   "cell_type": "markdown",
   "id": "persistent-africa",
   "metadata": {},
   "source": [
    "[REP Q8] Oui, elles sont coherentes, car ses points forment une relation proportionelle directe, et la fonction de l'ajustement forme egalement une ligne, avec tous nos points passant par celle-ci.\n",
    "\n",
    "[REP Q9] Oui, la droite passe par l'origine(0,0). Le coefficient directeur de la droite est egale a 8.5x10^-6, et la moyenne calculee precedemment est egale a 1.5x10^-5, donc, les resultats sont assez coherent."
   ]
  },
  {
   "cell_type": "markdown",
   "id": "beginning-bridal",
   "metadata": {},
   "source": [
    "**Pour aller plus loin :** [Q10] Le coefficient directeur de la droite, est-il cohérent avec la théorie ?\n",
    " * Attention, cette question Q10 nécessite un peu de travail. Les équations de l'introduction ci-dessus permettent de determiner la valeur théorique, en fonction de constantes connues (G et pi). Cependant, G s'exprime en unités SI ($\\mathrm{m}^3~\\mathrm{kg}^{-1}~\\mathrm{s}^{-1}$), mais le coefficient directeur s'exprime en d'autres unités (au, jours, masses solaires). Il faudra passer d'un système d'unités à l'autre. Pour ce faire, posez-vous les questions suivantes : Combien de mètres vaut 1au (une unité astronomique) ? Combien de s vaut un jour ? Combien de kg vaut la masse solaire $M_S$ ?"
   ]
  },
  {
   "cell_type": "code",
   "execution_count": 19,
   "id": "satellite-tribute",
   "metadata": {},
   "outputs": [],
   "source": [
    "# [votre code ici pour Q10]\n"
   ]
  },
  {
   "cell_type": "markdown",
   "id": "chemical-viewer",
   "metadata": {},
   "source": [
    "_(vos observations ici pour Q10)_"
   ]
  },
  {
   "cell_type": "markdown",
   "id": "muslim-vienna",
   "metadata": {},
   "source": [
    "---"
   ]
  },
  {
   "cell_type": "markdown",
   "id": "simple-saturday",
   "metadata": {},
   "source": [
    "# 2. Modélisation simple d'un système simple\n",
    "\n",
    "## 2.1 : Introduction\n",
    "\n",
    "Rappelons la loi de Newton (le principe fondamental de la dynamique):\n",
    "$$m_{\\mathrm{tot}} \\frac{\\mathrm{d}\\vec{v}_C}{\\mathrm{d}t} = \\vec{F}_{\\mathrm{tot}}$$\n",
    "où\n",
    "$m_{\\mathrm{tot}}$ est la masse totale d'un système,  \n",
    "$\\vec{v}_C$ est la vitesse (vectorielle) du centre de masse $C$ du système, et  \n",
    "$\\vec{F}_{\\mathrm{tot}}$ est la résultante des forces extérieures qui s'appliquent sur le système.\n",
    "\n",
    "Rappelons également comment calculer la force gravitationnelle entre deux corps :\n",
    "$$\\vec{F}_{A\\to B} = -\\mathcal{G} \\frac{m_A m_B}{||\\vec{AB}||^2} \\vec{u}_{AB}$$\n",
    "où\n",
    "$\\vec{F}_{A\\to B}$ est la force exercé par un corps (ou un système d'objets) $A$ de masse $m_A$ sur un corps $B$ de masse $m_B$,  \n",
    "$\\vec{AB}$ est la distance vectorielle entre les centres de masse des deux corps,  \n",
    "$\\mathcal{G}$ est la constante gravitationnelle,  et\n",
    "$\\vec{u}_{AB}$ est le vecteur unitaire de la distance entre les deux corps :\n",
    "$$\\vec{u}_{AB} = \\frac{\\vec{AB}}{||\\vec{AB}||}$$\n",
    "\n",
    "Nous allons mettre en oeuvre une résolution numérique de ces équations.\n",
    "Nous étudierons d'abord des systèmes suffisamment simples qu'ils permettent\n",
    "aussi des résolutions _analytiques_. L'intérêt est de comparer les deux approches\n",
    "afin de valider l'approche numérique et de comprendre ses limites.\n",
    "\n",
    "![Illustration des vecteurs](fig-vecteurs-1.png)\n",
    "\n",
    "Vous trouverez ci-dessus une illustration des vecteurs pour les deux corps A et B.\n",
    "Noter que les deux forces $\\vec{F}_{A\\to B}$ et $\\vec{F}_{B\\to A}$ sont de normes\n",
    "identiques mais de sens opposés ; dans le cas de la gravitation, elles dirigent\n",
    "A vers B et, inversement, B vers A. Noter en plus que nous n'avons à aucun point\n",
    "indiqué les vitesses des deux corps, car les forces gravitationnelles ne dépendent pas d'eux\n",
    "(s'expriment uniquement en fonction des masses et de la distance vectorielle $\\vec{AB}$).\n",
    "Par exemple, voici **une configuration possible** des vecteurs vitesses $\\vec{v}_A$ et $\\vec{v}_B$ :\n",
    "\n",
    "![Illustration des vecteurs](fig-vecteurs-2.png)"
   ]
  },
  {
   "cell_type": "markdown",
   "id": "instant-population",
   "metadata": {},
   "source": [
    "## 2.2 : Calculer la distance et la force entre deux corps\n",
    "\n",
    "Un vecteur en trois dimensions, par exemple la vitesse du corps $A$, peut se représenter sous la forme de trois nombres.\n",
    "Dans ce projet, nous utiliserons les coordonnées cartésiennes $\\vec{x} = (x,y,z)$, et nous représenterons des vecteurs en python par des objets `numpy.array`.\n",
    "\n",
    "Nous aurons besoin, à plusieurs reprises, de calculer la distance vectorielle (vecteur déplacement) entre deux points, et d'en déduire sa norme et sa direction. Par exemple :"
   ]
  },
  {
   "cell_type": "code",
   "execution_count": 20,
   "id": "elder-template",
   "metadata": {},
   "outputs": [],
   "source": [
    "import numpy\n",
    "import math\n",
    "\n",
    "# Nous définissons deux vecteurs, qui répresentent des positions de deux objets :\n",
    "exempleVecA = numpy.array([0.0, 0.0, 1.0]) # en mètres\n",
    "exempleVecB = numpy.array([0.0, 2.0, 1.0]) # en mètres\n",
    "\n",
    "# Nous calculons le vecteur déplacement :\n",
    "exempleVecDiff = exempleVecB - exempleVecA # en mètres\n",
    "# Le produit scalaire de cette différence avec elle-même (la magnitude au carré) :\n",
    "exempleVecDiffMagCarre = exempleVecDiff.dot(exempleVecDiff) # en m^2\n",
    "# La magnitude :\n",
    "exempleVecDiffMag = math.sqrt(exempleVecDiffMagCarre) # en mètres\n",
    "# Le vecteur unitaire associé :\n",
    "exempleVecDiffUnitaire = exempleVecDiff / exempleVecDiffMag # sans unités"
   ]
  },
  {
   "cell_type": "markdown",
   "id": "governing-serial",
   "metadata": {},
   "source": [
    "[Q11] Muni de ces outils, écrire une fonction python qui calcule la force vectorielle entre deux corps A et B, dont les positions sont `xA` et `xB` (deux objets de type numpy.array), et dont les masses sont `mA` et `mB`. La force étant un vecteur, la fonction doit renvoyer un numpy.array. Vous pouvez utiliser la trame suivante :\n",
    "\n",
    "```python\n",
    "def forceGravitationnelle(xA, xB, mA, mB):\n",
    "    # votre code ici\n",
    "    F = [...] # vous calculez la force\n",
    "    return F\n",
    "```"
   ]
  },
  {
   "cell_type": "code",
   "execution_count": 21,
   "id": "particular-lesson",
   "metadata": {},
   "outputs": [],
   "source": [
    "# [votre code ici pour Q11]\n",
    "def forceGravitationnelle(xA, xB, mA, mB):\n",
    "    \n",
    "    dif=xB-xA\n",
    "    mag=math.sqrt(np.inner(dif,dif))\n",
    "    G=6.674e-11\n",
    "    unit=dif/mag\n",
    "    F=np.array((-G*mA*mB*unit)/mag**2)\n",
    "   \n",
    "    return F"
   ]
  },
  {
   "cell_type": "markdown",
   "id": "radical-purchase",
   "metadata": {},
   "source": [
    "Il est une bonne pratique de tester et de vérifier le code que l'on vient d'écrire. Dans l'exemple ci-dessus, nous avons défini deux objets séparés d'une distance de deux mètres dans la direction $+y$. Soient leurs masses 1kg. On peut calculer la norme de la force (on obtient $1,6685 \\times 10^{-11} \\, \\mathrm{kg} \\, \\mathrm{m} \\, \\mathrm{s}^{-2}$).\n",
    "Et l'orientation ? $\\vec{F}_{A\\to B}$ est la force exercé par A sur B, c'est-à-dire la force subie par B ; la force gravitationnelle étant attractive, elle va diriger B vers A, donc dans la direction $-y$, c'est-à-dire $(0, -1, 0)$. Est-ce bien le cas ? Le code ci-dessous effectuera ce test (après que vous avez défini la fonction `forceGravitationelle` dans la Q11 ; si vous avez choisi un autre nom, il faudrait faire une modification correspondante) :"
   ]
  },
  {
   "cell_type": "markdown",
   "id": "interior-connectivity",
   "metadata": {},
   "source": [
    "```python\n",
    "exempleForce = forceGravitationnelle(exempleVecA, exempleVecB, 1.0, 1.0)\n",
    "exempleForceMagnitude = math.sqrt(exempleForce.dot(exempleForce))\n",
    "print(\"La force est\", exempleForce, \"kg m s^{-2}.\")\n",
    "print(\"Sa magnitude vaut \", exempleForceMagnitude, \"kg m s^{-2}\")\n",
    "print(\"Son vecteur unitaire est\", exempleForce/exempleForceMagnitude)\n",
    "```"
   ]
  },
  {
   "cell_type": "markdown",
   "id": "south-lingerie",
   "metadata": {},
   "source": [
    "[Q12] Ajouter ces lignes de code et effectuer ce test. Si tout est correct, le résultat de ce test simple devrait se ressembler à la suivante :\n",
    "\n",
    "```\n",
    "La force est [-0.0000e+00 -1.6685e-11 -0.0000e+00] kg m s^{-2}.\n",
    "Sa magnitude vaut  1.6685e-11 kg m s^{-2}\n",
    "Son vecteur unitaire est [-0. -1. -0.]\n",
    "```"
   ]
  },
  {
   "cell_type": "code",
   "execution_count": 22,
   "id": "focused-priority",
   "metadata": {},
   "outputs": [
    {
     "name": "stdout",
     "output_type": "stream",
     "text": [
      "La force est [-0.0000e+00 -1.6685e-11 -0.0000e+00] kg m s^{-2}.\n",
      "Sa magnitude vaut  1.6685e-11 kg m s^{-2}\n",
      "Son vecteur unitaire est [-0. -1. -0.]\n"
     ]
    }
   ],
   "source": [
    "# [votre code ici pour Q12]\n",
    "exempleForce = forceGravitationnelle(exempleVecA, exempleVecB, 1.0, 1.0)\n",
    "exempleForceMagnitude = math.sqrt(exempleForce.dot(exempleForce))\n",
    "print(\"La force est\", exempleForce, \"kg m s^{-2}.\")\n",
    "print(\"Sa magnitude vaut \", exempleForceMagnitude, \"kg m s^{-2}\")\n",
    "print(\"Son vecteur unitaire est\", exempleForce/exempleForceMagnitude)"
   ]
  },
  {
   "cell_type": "markdown",
   "id": "protected-approach",
   "metadata": {},
   "source": [
    "## 2.3 : Premier jet : un champ gravitationnel statique\n",
    "\n",
    "Ayant écrit et testé ces outils, nous pouvons ensuite simuler un système plus intéressant !\n",
    "On considère un système constitué du Soleil (corps A) et de la Terre (corps B).\n",
    "Nous souhaitons modéliser le trajet de la Terre autour du Soleil.\n",
    "Dans ce premier exercice, le Soleil est supposé fixe et immobile à l'origine.\n",
    "\n",
    "La masse du Soleil vaut $1,9885 \\times 10^{30} \\, \\mathrm{kg}$.\n",
    "La masse de la Terre vaut $5,972 \\times 10^{24} \\, \\mathrm{kg}$."
   ]
  },
  {
   "cell_type": "markdown",
   "id": "corresponding-paintball",
   "metadata": {},
   "source": [
    "### Exercice : calculer la force subie par la Terre\n",
    "\n",
    "À t=0 (c'est-à-dire dans les conditions initialles), la Terre se trouve à une distance \n",
    "$d_0 = 149 \\, 596 \\, 006 \\, \\mathrm{km}$\n",
    "du Soleil.\n",
    "On place la Terre à $x_B = (d_0, 0, 0)$. Le soleil est forcément à $x_A = (0,0,0)$.\n",
    "\n",
    "[Q13] Utiliser votre fonction pour évaluer la force gravitationnelle (vectorielle) subie par la Terre à cet instant, en unités SI."
   ]
  },
  {
   "cell_type": "code",
   "execution_count": 23,
   "id": "sixth-inflation",
   "metadata": {},
   "outputs": [
    {
     "name": "stdout",
     "output_type": "stream",
     "text": [
      "La force gravitationelle est egale a F=[-3.5415355e+22 -0.0000000e+00 -0.0000000e+00] en kg ms-2(Newton)\n"
     ]
    }
   ],
   "source": [
    "# [votre code ici pour Q13]\n",
    "#Je declare mes variables avec leurs valeurs respectives\n",
    "d0=149596006e3\n",
    "xA=np.array([0,0,0])\n",
    "xB=np.array([d0,0,0])\n",
    "mA=1.9885e30\n",
    "mB=5.972e24\n",
    "\n",
    "#Je calcule la force sur la terre, par le soleil \n",
    "F=forceGravitationnelle(xA,xB,mA,mB)\n",
    "print(f\"La force gravitationelle est egale a F={F} en kg ms-2(Newton)\")\n"
   ]
  },
  {
   "cell_type": "markdown",
   "id": "headed-calcium",
   "metadata": {},
   "source": [
    "[Q14] Ensuite, faites le calcul vous-même (sur papier, ou avec une calculatrice) et vérifiez que vos deux valeurs sont cohérentes."
   ]
  },
  {
   "cell_type": "markdown",
   "id": "systematic-collection",
   "metadata": {},
   "source": [
    "_(vos observations ici pour Q14)_\n",
    "oui, notre calcul sur papier correspond au calcul coder en python! wow!"
   ]
  },
  {
   "cell_type": "markdown",
   "id": "palestinian-onion",
   "metadata": {},
   "source": [
    "## 2.4 : L'évolution du système\n",
    "\n",
    "Mais la Terre ne va pas rester à cette position initiale : elle se déplace ! Nous calculerons son trajet en suivant une approche numérique itérative, en faisant une série de calculs par pas de temps $dt$."
   ]
  },
  {
   "cell_type": "markdown",
   "id": "genetic-election",
   "metadata": {},
   "source": [
    "Supposons que le pas $dt$ soit suffisamment court pour que la réponse du système soit linéaire, c'est-à-dire\n",
    "\n",
    "$$\\vec{x}_B(t + dt) = \\vec{x}_B(t) + d\\vec{x} = \\vec{x}_B(t) + \\vec{v}_B(t) dt$$\n",
    "$$\\vec{v}_B(t + dt) = \\vec{v}_B(t) + d\\vec{v} = \\vec{v}_B(t) + \\vec{a}_B(t) dt$$\n",
    "\n",
    "où $\\vec{x}_B(t)$ est la position de la Terre au temps $t$, $\\vec{v}_B(t)$ est sa vitesse, et $\\vec{a}_B(t)$ est son accéleration.\n",
    "On procède comme suite :\n",
    "\n",
    "- On définie les conditions initiales : les valeurs des paramètres $\\vec{x}_B(t)$ et $\\vec{v}_B(t)$ à $t=0$.\n",
    "- On calcule $\\vec{F}_{A\\to B}(t)$ et ainsi $\\vec{a}_B(t)$ à $t=0$.\n",
    "- Sachant la vitesse et l'accéleration à $t=0$, on calcule les paramètres à $dt$ : $\\vec{x}_B(dt)$ et $\\vec{v}_B(dt)$. On en déduit la force et ainsi l'accéleration à $t=dt$.\n",
    "- Avec ces nouvelles valeurs à $t=dt$, on calcule les paramètres à $t=2dt$.\n",
    "- Avec ces nouvelles valeurs à $t=2dt$, on calcule les paramètres à $t=3dt$.\n",
    "- (etc)\n",
    " \n",
    "Voici une illustration de l'approche (avec un pas plutôt grossier). À chaque point $i=0,1,...,6$, on détermine la position ($\\vec{x}_i$), la vitesse ($\\vec{v}_i$), et la force subie ($\\vec{F}_i$). Notez que, par exemple, on calcule $\\vec{x}_1 = \\vec{x}_0 + \\vec{v}_0 dt$ et non avec une formule trigonométrique.\n",
    "\n",
    "![Illustration des vecteurs](fig-vecteurs-4.png)\n",
    " \n",
    "Ceci est une approche itérative. Parce que nous allons refaire les calculs de nombreuses fois, nous aimerions écrire un bloc de code réutilisable dans des boucles.\n",
    "\n",
    "### Exercice : avancer un pas\n",
    "\n",
    "[Q15] Écrire une fonction qui prend en entrée les valeurs actuelles de `xA`, `xB`, et `vB` et un pas `dt`, qui fait avancer la position et la vitesse de la Terre d'un pas, et qui renvoie les nouvelles valeurs.\n",
    "(Dans ce modèle simplifié, le Soleil reste fixe à l'origine. Parce qu'il ne bouge pas, nous ne précisons pas sa vitesse nulle `vA`.)\n",
    "Vous pouvez utiliser la trame suivante :\n",
    "\n",
    "```\n",
    "def champStatiqueAvanceUnPas(xA, xB, vB, dt):\n",
    "    # votre code ici\n",
    "    nouvelle_xB = [...]\n",
    "    nouvelle_vB = [...]\n",
    "    return nouvelle_xB, nouvelle_vB\n",
    "```\n",
    "\n",
    "Point technique : Python traite des nombres simples (comme `dt`) un peu différemment des objets composés (comme `xB`). Selon la structure de votre code, vous pourriez avoir besoin de créer une nouvelle copie d'un vecteur avant de le manipuler, par exemple :\n",
    "\n",
    "```\n",
    "    dxB = dt * numpy.array(vB)\n",
    "````"
   ]
  },
  {
   "cell_type": "code",
   "execution_count": 24,
   "id": "stuffed-preliminary",
   "metadata": {},
   "outputs": [],
   "source": [
    "# [votre code ici pour Q15]\n",
    "def champStatiqueAvanceUnPas(xA, xB, vB, dt):\n",
    "    # Calcul de la force gravitationnelle\n",
    "    force = forceGravitationnelle(xA, xB, mA, mB)\n",
    "    \n",
    "    # Calcul de l'accélération de la Terre\n",
    "    aB = force / mB\n",
    "    \n",
    "    #Les nouvelles valeurs\n",
    "    dxB = dt * numpy.array(vB)\n",
    "    nouvelle_vB = vB + aB * dt\n",
    "    nouvelle_xB = xB + dxB\n",
    "    \n",
    "    return nouvelle_xB, nouvelle_vB\n"
   ]
  },
  {
   "cell_type": "markdown",
   "id": "interracial-smell",
   "metadata": {},
   "source": [
    "[Q16] Ensuite, tester la fonction. Par exemple, avec une vitesse initiale de **29,78 km/s** vers $+y$ et un pas de 1s, on attend que la Terre se déplace d'environ 30km vers $+y$ lors du pas, et que sa vitesse évolue vers le Soleil (vers $-x$).\n",
    "Ajouter un test et vérifier qu'il donne un résultat raisonnable."
   ]
  },
  {
   "cell_type": "code",
   "execution_count": 25,
   "id": "foreign-machinery",
   "metadata": {},
   "outputs": [
    {
     "name": "stdout",
     "output_type": "stream",
     "text": [
      "La nouvelle valeur de xB est = [1.49596006e+11 2.97800000e+04 0.00000000e+00]\n",
      "\n",
      "La nouvelle valeur de vB est = [-5.93023359e-03  2.97800000e+04  0.00000000e+00]\n",
      "\n",
      "Pour verifier que le resultat est raisonable il faut que l'ancienne valeur de xB, en y, soit positif et egale a environ 30km, et la nouvelle vitesse de vB, en x, soit negatif. (According to the question)\n",
      "\n",
      "Pour un test visuel, voici les valeurs xB1 et vB1 respectivement : (29780.0, -0.005930233589170268)\n",
      "\n",
      "Nos 3 tests sont verifier\n"
     ]
    }
   ],
   "source": [
    "# [votre code ici pour Q16]\n",
    "nouvelle_xB, nouvelle_vB = champStatiqueAvanceUnPas(xA,xB,np.array([0, 29780, 0]),1) #Je declare les nouvelles valeurs\n",
    "print(f\"La nouvelle valeur de xB est = {nouvelle_xB}\\n\")\n",
    "print(f\"La nouvelle valeur de vB est = {nouvelle_vB}\\n\")\n",
    "\n",
    "print(\"Pour verifier que le resultat est raisonable il faut que l'ancienne valeur de xB, en y, soit positif et egale a environ 30km, et la nouvelle vitesse de vB, en x, soit negatif. (According to the question)\\n\")\n",
    "\n",
    "xB1=nouvelle_xB[1] ; vB1=nouvelle_vB[0] #Je recupere la distance en y de xB et la vitesse en x de vB\n",
    "\n",
    "print(f\"Pour un test visuel, voici les valeurs xB1 et vB1 respectivement : {xB1,vB1}\\n\")\n",
    "\n",
    "if xB1>0 and 29e3<=xB1<=31e3 and vB1<0: #Je verifie que la distance en y et la vitesse en x respectent les conditions donner dans la question\n",
    "    print (\"Nos 3 tests sont verifier\")\n",
    "else:\n",
    "    print (\"Non, il y'a une erreur\")\n",
    "\n"
   ]
  },
  {
   "cell_type": "markdown",
   "id": "liquid-above",
   "metadata": {},
   "source": [
    "## 2.5 : Point sur le choix du pas\n",
    "\n",
    "Le pas ($dt$) n'est pas un paramètre physique : il ne correspond pas à une propriété observable du système solaire. En principe, on devrait trouver des résultats semblables pour tout choix _valable_ de dt (c'est-à-dire, pour tout choix qui valide l'hypothèse que l'évolution du système est linéaire pendant l'intervalle $dt$). Cependant, il est un paramètre de notre modèle, et un mauvais choix du pas peut fausser le résultat. En général, on veut que le pas soit le plus court possible.\n",
    "Mais la précision a son prix : plus $dt$ est petit, plus le temps de calcul augmente. Un pas très, très petit peut aussi engendrer des problèmes de précision numérique. Dans ce projet, vous devrez choisir un pas adapté au problème, et étudier l'effet de la variation de sa valeur."
   ]
  },
  {
   "cell_type": "markdown",
   "id": "falling-israeli",
   "metadata": {},
   "source": [
    "#### Exercice : L'orbite de la terre\n",
    "\n",
    "On va maintentant suivre la Terre autour du Soleil. On prend des valeurs initiales suivantes : \n",
    "\n",
    "$$\\vec{x}(t=0) = (d_0, 0, 0)$$\n",
    "$$\\vec{v}(t=0) = (0, v_0, 0)$$\n",
    "où\n",
    "$$d_0 = 149 \\, 596 \\, 006 \\, \\mathrm{km}$$\n",
    "$$v_0 = 29,78 \\, \\mathrm{km} \\, \\mathrm{s}^{-1}$$\n",
    "\n",
    "[Q17] Choisir un pas $dt$, et déterminer le nombre $N$ de pas correspondent à un an. Ensuite, utilisez votre fonction (définie dans la question 15) $N$ fois et déterminer la position de la Terre après un an."
   ]
  },
  {
   "cell_type": "code",
   "execution_count": 27,
   "id": "pressed-citation",
   "metadata": {},
   "outputs": [
    {
     "name": "stdout",
     "output_type": "stream",
     "text": [
      "Position de la Terre après un an : [ 1.49957551e+11 -1.94336084e+09  0.00000000e+00]\n"
     ]
    }
   ],
   "source": [
    "# [votre code ici pour Q17, à réutiliser ensuite en étudiant les Q19-21]\n",
    "# Durée totale en secondes pour un an (365jours)\n",
    "duree_totale_an = 365 * 24 * 60 * 60  # secondes dans un an\n",
    "\n",
    "# Choix du pas de temps (par exemple, 1000 secondes)\n",
    "dt = 1000  # secondes\n",
    "\n",
    "# Calcul du nombre de pas nécessaires\n",
    "N = int(duree_totale_an / dt)\n",
    "\n",
    "# Conditions initiales\n",
    "xA = np.array([0, 0, 0])               # position du Soleil\n",
    "xB_initiale = np.array([149596006e3, 0, 0])  # position initiale de la Terre\n",
    "vB_initiale = np.array([0, 29780, 0])          # vitesse initiale de la Terre en m/s\n",
    "\n",
    "# Initialisation des variables\n",
    "xB = xB_initiale\n",
    "vB = vB_initiale\n",
    "\n",
    "# Simulation de la trajectoire de la Terre pendant un an\n",
    "for i in range(N):\n",
    "    xB, vB = champStatiqueAvanceUnPas(xA, xB, vB, dt)\n",
    "\n",
    "# Affichage de la position de la Terre après un an\n",
    "print(\"Position de la Terre après un an :\", xB)\n"
   ]
  },
  {
   "cell_type": "markdown",
   "id": "broadband-athens",
   "metadata": {},
   "source": [
    "_(vos remarques sur le choix de dt ici pour Q17)_\n",
    "\n",
    "Un pas de 1000 secondes, car un pas plus petit fait en sorte que jupyter Notebook plante (trop de tour de boucles), et un pas plus grand ne donner pas forcement une difference enorme. "
   ]
  },
  {
   "cell_type": "markdown",
   "id": "noted-actor",
   "metadata": {},
   "source": [
    "[Q18] Visualiser l'évolution temporelle de la position de la Terre.\n",
    " * Remarques : Il est convenable de pouvour visualiser ce que fait le calcul. À cette fin, vous pouvez utiliser la fonction `scatter()` de `matplotlib.pyplot`. Astuce : au lieu de dessiner un point par pas, vous pourriez dessiner un point par 1000 pas (ou 100, ou $10^4$, ou etc, en fonction de sa durée) ; [l'opération modulo](https://fr.wikipedia.org/wiki/Modulo_(op%C3%A9ration)) (`%`, le reste de la division d'entiers) pourrait vous aider. Vous pouvez ainsi utiliser un pas court sans stocker un nombre excessif de points."
   ]
  },
  {
   "cell_type": "code",
   "execution_count": 37,
   "id": "muslim-factor",
   "metadata": {},
   "outputs": [
    {
     "data": {
      "image/png": "[encoded data removed]",
      "text/plain": [
       "<Figure size 640x480 with 1 Axes>"
      ]
     },
     "metadata": {},
     "output_type": "display_data"
    }
   ],
   "source": [
    "# Durée totale en secondes pour un an (365jours)\n",
    "duree_totale_an = 365 * 24 * 60 * 60  # secondes dans un an\n",
    "\n",
    "# Choix du pas de temps (par exemple, 1000 secondes)\n",
    "dt = 1000  # secondes\n",
    "\n",
    "# Calcul du nombre de pas nécessaires\n",
    "N = int(duree_totale_an / dt)\n",
    "\n",
    "# Conditions initiales\n",
    "xA = np.array([0, 0, 0])               # position du Soleil\n",
    "xB_initiale = np.array([149596006e3, 0, 0])  # position initiale de la Terre\n",
    "vB_initiale = np.array([0, 29780, 0])          # vitesse initiale de la Terre en m/s\n",
    "\n",
    "# Initialisation des variables\n",
    "xB = xB_initiale\n",
    "vB = vB_initiale\n",
    "\n",
    "# Affichage de l'évolution temporelle de la position de la Terre\n",
    "plt.scatter(xB[0], xB[1], s=1)  # s est la taille du point\n",
    "\n",
    "# Simulation de la trajectoire de la Terre pendant un an\n",
    "for i in range(N):\n",
    "    xB, vB = champStatiqueAvanceUnPas(xA, xB, vB, dt)\n",
    "    \n",
    "    # Affichage des positions tous les 1000 pas\n",
    "    if i % 1000 == 0:\n",
    "        plt.scatter(xB[0], xB[1], s=10)\n",
    "\n",
    "plt.title(\"Trajectoire de la Terre autour du Soleil\")\n",
    "plt.xlabel(\"Position en x (mètres)\")\n",
    "plt.ylabel(\"Position en y (mètres)\")\n",
    "plt.show()\n"
   ]
  },
  {
   "cell_type": "markdown",
   "id": "eleven-rolling",
   "metadata": {},
   "source": [
    "Questions à considérer, muni de votre outil de simulation numérique :\n",
    "\n",
    "+ [Q19] Est-ce que la Terre est revenue à son point de départ après un an ? (À quelle précision ?)\n",
    "+ [Q20] Que se passe-t-il si le pas $dt$ varie ? (Vous pouvez tenter, par exemple, {10000s, 1000s, 100s, 10s, 1s} ou {1jour, 1heure, 1min, 1s}. Attention, le calcul pourrait devenir long dans le cas d'un pas court.)\n",
    "+ [Q21] Que se passe-t-il après plusieurs cycles, par exemple au fil de 10 ans, ou de 100 ans ?"
   ]
  },
  {
   "cell_type": "markdown",
   "id": "political-bracket",
   "metadata": {},
   "source": [
    "_(vos observations ici pour les Q19-21)_ \n",
    "\n",
    "Q19: Oui, cependant, la précision dépendra de notre choix de pas et de la stabilité de l'algorithme de Jupyter Notebook. \n",
    "\n",
    "Q20: J'ai expérimenté avec différentes valeurs de pas, notamment {10000s, 1000s, 100s, 10s, 1s}. J'ai observé que des pas plus petits offraient une meilleure précision, mais ils augmentent également le temps de calcul, et l'algorithme plante. Donc c'est important de trouver un compromis entre la précision souhaitée et la faisabilité en termes de temps de calcul.\n",
    "\n",
    "Q21: En prolongeant la simulation sur 10 ans, la trajectoire de la Terre reste relativement stable. Cependant, au fil du temps, des erreurs d'accumulation numérique peuvent se produire, et ca entraine une dérive dans la trajectoire. Pour des périodes plus longues, il peut être nécessaire d'utiliser des méthodes numériques plus avancées pour maintenir la stabilité du modèle sur JupyNotebook.\n",
    "\n",
    "\n"
   ]
  },
  {
   "cell_type": "markdown",
   "id": "bottom-principle",
   "metadata": {},
   "source": [
    "---"
   ]
  },
  {
   "cell_type": "markdown",
   "id": "secret-clearing",
   "metadata": {},
   "source": [
    "# 3. Un système à deux corps [s'il vous reste le temps nécessaire]\n",
    "\n",
    "Dans la réalité, le Soleil n'est pas fixe et immobile (troisième loi de Newton). Parce que la force subie par la Terre dépend de la position du Soleil, ce déplacement changera l'évolution subséquente du système. Son comportement devient plus complexe : le mouvement de la Terre dépend du mouvement du Soleil, qui dépend du mouvement de la Terre.\n",
    "\n",
    "Nous adapterons notre simulation numérique pour qu'elle tienne compte du mouvement du Soleil. Pour ce faire, nous retenons la même approche itérative ; la différence, c'est qu'il faut maintenant suivre davantage de paramètres.\n",
    "\n",
    "[Q22] D'abord, écrire une nouvelle fonction (prennant en entrée les valeurs actuelles de `xA`, `xB`, `vA`, `vB` et un pas `dt`) qui fait avancer les positions et les vitesse d'un pas, et renvoie les nouvelles valeurs.\n",
    "Vous pouvez utiliser la trame suivante :\n",
    "\n",
    "```python\n",
    "def systemeDeuxCorpsAvanceUnPas(xA, xB, vA, vB, dt):\n",
    "    # votre code ici\n",
    "    nouvelle_xA = [...]\n",
    "    nouvelle_vA = [...]\n",
    "    nouvelle_xB = [...]\n",
    "    nouvelle_vB = [...]\n",
    "    return nouvelle_xA, nouvelle_vA, nouvelle_xB, nouvelle_vB\n",
    "```"
   ]
  },
  {
   "cell_type": "code",
   "execution_count": 48,
   "id": "minimal-image",
   "metadata": {},
   "outputs": [],
   "source": [
    "# [votre code ici pour Q22]\n",
    "def systemeDeuxCorpsAvanceUnPas(xA, xB, vA, vB, dt):\n",
    "    # Calcul de la force gravitationnelle entre le Soleil et la Terre\n",
    "    force_soleil_terre = forceGravitationnelle(xA, xB,mA,mB)\n",
    "    \n",
    "    # Calcul de l'accélération de la Terre\n",
    "    aB = force_soleil_terre / mB\n",
    "    \n",
    "    # Calcul de la nouvelle vitesse de la Terre\n",
    "    nouvelle_vB = vB + aB * dt\n",
    "    \n",
    "    # Calcul de la nouvelle position de la Terre\n",
    "    nouvelle_xB = xB + vB * dt\n",
    "    \n",
    "    # Calcul de la force gravitationnelle entre la Terre et le Soleil\n",
    "    force_terre_soleil = forceGravitationnelle(xB, xA, mB, mA)\n",
    "    \n",
    "    # Calcul de l'accélération du Soleil\n",
    "    aA = force_terre_soleil / mA\n",
    "    \n",
    "    # Calcul de la nouvelle vitesse du Soleil\n",
    "    nouvelle_vA = vA + aA * dt\n",
    "    \n",
    "    # Calcul de la nouvelle position du Soleil\n",
    "    nouvelle_xA = xA + vA * dt\n",
    "    \n",
    "    return nouvelle_xA, nouvelle_vA, nouvelle_xB, nouvelle_vB\n"
   ]
  },
  {
   "cell_type": "markdown",
   "id": "later-reporter",
   "metadata": {},
   "source": [
    "[Q23] Choisir les valeurs initiales des paramètres pour que le centre de masse (barycentre) du système soit (i) à l'origine, et (ii) au repos, c'est-à-dire de vitesse nulle. (Ces choix n'ont pas de signification physique, dans un sens fondamental, mais ils rendront plus simple le modèle du système.) Comme auparavant, on veut que la distance Terre-Soleil à $t=0$ soit $d_0$ et la vitesse relative à $t=0$ soit $v_0$."
   ]
  },
  {
   "cell_type": "markdown",
   "id": "incorporated-dictionary",
   "metadata": {},
   "source": [
    "_(vos remarques ici sur le choix des valeurs initiales pour Q23)_\n",
    "\n",
    "Pour positionner le barycentre à l'origine, on peut envisager de placer le Soleil et la Terre de chaque côté de l'origine, en fonction de leurs masses respectives. Par exemple, si la distance Terre-Soleil au début est d0, on pourrait choisir :\n",
    "\n",
    "Pour le Soleil : Positionner à droite de l'origine, proportionnellement à sa masse.\n",
    "Pour la Terre : Positionner à gauche de l'origine, proportionnellement à sa masse.\n",
    "\n",
    "Pour que le centre de masse soit au repos, les masses du Soleil et de la Terre doivent être proportionnelles à leurs vitesses opposées. Par exemple, si la vitesse relative au début est v0, on pourrait choisir :\n",
    "\n",
    "Pour le Soleil : Une vitesse proportionnelle à sa masse, mais en direction opposée à la vitesse relative.\n",
    "Pour la Terre : Une vitesse proportionnelle à sa masse, mais en direction opposée à la vitesse relative.\n",
    "\n",
    "\n",
    "Ces choix garantissent que le barycentre du système reste à l'origine et que le centre de masse est immobile. Les valeurs numériques exactes dépendront des masses des corps, de la distance initiale Terre-Soleil, de la vitesse relative initiale, et des unités utilisées dans le modèle."
   ]
  },
  {
   "cell_type": "code",
   "execution_count": 50,
   "id": "psychological-eugene",
   "metadata": {},
   "outputs": [],
   "source": [
    "# [votre code ici pour Q23, à réutiliser ensuite pour Q25-26]\n",
    "# Choix des valeurs initiales\n",
    "mT = mB\n",
    "mS = mA\n",
    "d0 = 149596006e3  # distance Terre-Soleil à t=0 en mètres\n",
    "v0 = 29780       # vitesse relative à t=0 en m/s\n",
    "\n",
    "# Calcul des positions initiales pour placer le barycentre à l'origine\n",
    "xA_initiale = np.array([mS / (mT + mS) * d0, 0, 0])\n",
    "xB_initiale = np.array([-mT / (mT + mS) * d0, 0, 0])\n",
    "\n",
    "# Calcul des vitesses initiales pour que le barycentre soit au repos\n",
    "vA_initiale = np.array([mS / (mT + mS) * v0, 0, 0])\n",
    "vB_initiale = np.array([-mT / (mT + mS) * v0, 0, 0])\n",
    "\n",
    "# valeurs initiales dans la simulation\n",
    "xA, vA, xB, vB = xA_initiale, vA_initiale, xB_initiale, vB_initiale"
   ]
  },
  {
   "cell_type": "markdown",
   "id": "complimentary-silicon",
   "metadata": {},
   "source": [
    "[Q24] Ensuite, utiliser cette fonction pour calculer l'évolution du système. \n",
    "\n",
    "Questions à considérer :\n",
    "\n",
    "+ [Q25] Est-ce que le système se comporte différemment du modèle simplifié ci-dessus (d'un Soleil fixe) ? Pourquoi ?\n",
    "+ [Q26] Est-ce que la position et la vitesse du centre de masse sont censées varier au fil du temps ? Est-ce le cas en pratique, selon votre modèle ?"
   ]
  },
  {
   "cell_type": "markdown",
   "id": "reflected-absorption",
   "metadata": {},
   "source": [
    "_(vos remarques ici pour Q25)_"
   ]
  },
  {
   "cell_type": "markdown",
   "id": "minute-bouquet",
   "metadata": {},
   "source": [
    "_(vos remarques ici pour Q26)_"
   ]
  },
  {
   "cell_type": "code",
   "execution_count": 51,
   "id": "novel-maldives",
   "metadata": {},
   "outputs": [
    {
     "data": {
      "image/png": "[encoded data removed]",
      "text/plain": [
       "<Figure size 640x480 with 1 Axes>"
      ]
     },
     "metadata": {},
     "output_type": "display_data"
    }
   ],
   "source": [
    "# [votre code ici pour Q25-26, le cas échéant]\n",
    "dt = 1000  # secondes\n",
    "duree_totale_an = 365 * 24 * 60 * 60  # secondes dans un an\n",
    "N = int(duree_totale_an / dt)\n",
    "\n",
    "# les positions pour l'analyse et la visualisation\n",
    "positions_xB = []\n",
    "\n",
    "# Simulation de l'évolution du système\n",
    "for i in range(N):\n",
    "    xA, vA, xB, vB = systemeDeuxCorpsAvanceUnPas(xA, xB, vA, vB, dt)\n",
    "    \n",
    "    # Ajouter la position actuelle de la Terre à la liste\n",
    "    positions_xB.append(xB.copy())\n",
    "\n",
    "# un tableau NumPy pour une manipulation plus facile\n",
    "positions_xB = np.array(positions_xB)\n",
    "\n",
    "# graphe de l'évolution temporelle de la position de la Terre\n",
    "plt.scatter(positions_xB[:, 0], positions_xB[:, 1], s=1)\n",
    "plt.title(\"Trajectoire de la Terre autour du Soleil avec mouvement du Soleil\")\n",
    "plt.xlabel(\"Position en x (mètres)\")\n",
    "plt.ylabel(\"Position en y (mètres)\")\n",
    "plt.show()\n"
   ]
  },
  {
   "cell_type": "markdown",
   "id": "legal-color",
   "metadata": {},
   "source": [
    "---"
   ]
  },
  {
   "cell_type": "markdown",
   "id": "precise-pipeline",
   "metadata": {},
   "source": [
    "# Pour aller plus loin\n",
    "\n",
    "Ci-dessous, quelques idées qui pourrait vous inspirer. La liste n'est pas exhaustive !\n",
    "\n",
    "## Idées pour la partie 1 :\n",
    "\n",
    "### Appliquer la troisième loi de Kepler à d'autres planètes ; incertitudes\n",
    "\n",
    "Les données du fichier ```nasa-exoplanetes.csv``` concernent les planètes suivantes :\n",
    "11 Com b,\n",
    "11 UMi b,\n",
    "14 And b,\n",
    "14 Her b,\n",
    "16 Cyg B b,\n",
    "18 Del b,\n",
    "24 Boo b,\n",
    "24 Sex b,\n",
    "24 Sex c,\n",
    "2MASS J19383260+4603591 b,\n",
    "30 Ari B b,\n",
    "4 UMa b,\n",
    "42 Dra b,\n",
    "47 UMa b,\n",
    "47 UMa c,\n",
    "51 Peg b,\n",
    "55 Cnc b,\n",
    "55 Cnc c.\n",
    "\n",
    "Vous pouvez tester sa validité avec d'autres planètes de la base de données de la NASA.\n",
    "Attention : elle comprend énormément d'informations sur des milliers de planètes\n",
    "(et parfois plusieurs mesures par planète).\n",
    "Il n'est pas conseillé de traiter un grand nombre de planètes (pour qu'il reste un projet de physique et non d'informatique).\n",
    "Par contre, il pourrait être intéressant de tester la loi de Kepler dans des conditions\n",
    "extrèmes (p.ex. des planètes très massives, ou très loin de leurs astres, ou dans des systèmes à plusieurs astres).\n",
    "\n",
    "La plupart des mesures pertinantes ont des incertitudes associées.\n",
    "Pouvez-vous les inclure dans votre graphique, et/ou dans votre ajustement ?\n",
    "\n",
    "## Idées pour les parties 2+3 :\n",
    "\n",
    "### La méthode de Varlet\n",
    "\n",
    "L'algorithme itératif proposé dans la partie 2.4 correspond, en effet, à la méthode d'Euler. Il souffre des imprécisions si le pas dt n'est pas très court. Un autre algorithme, plus précis, est [la méthode de Verlet](https://fr.wikipedia.org/wiki/Int%C3%A9gration_de_Verlet). Au deuxième ordre, on peut l'exprimer sous la forme suivante :\n",
    "\n",
    "$$\\vec{v}_B(t + dt) = \\vec{v}_B(t) + \\vec{a}_B(t) dt$$\n",
    "$$\\vec{x}_B(t + dt) = \\vec{x}_B(t) + \\left[ \\frac{\\vec{v}_B(t) + \\vec{v}_B(t+dt)}{2} \\right] dt$$\n",
    "\n",
    "Vous pouvez mettre en comparaison la précision des deux méthodes (d'Euler et de Verlet) avec des pas grossiers, raisonnables, et fins. Les résultats, sont-ils cohérents ? Sous quelles conditions les méthodes sont-elles fiables ?\n",
    "\n",
    "### Un modèle plus réaliste du système Terre-Soleil ; vérifications numériques de la troisième loi de Kepler (via la simulation des parties 2-3)\n",
    "\n",
    "Les valeurs initiales du rayon et de la vitesse de la Terre (proposées dans les sections 2.3 et 2.4) ont été calculées tel qu'on obtienne une orbite quasi-circulaire ; elles correspondent bien aux valeurs expérimentales du demi-grand axe $a$ et de la vitesse _moyenne_ de [l'orbite](https://fr.wikipedia.org/wiki/Orbite_de_la_Terre). Cependant, dans la réalité l'orbite n'est pas strictement circulaire ; vous pouvez simuler l'orbite avec de valeurs plus précises de l'orbite de la Terre, ou d'une autre planète ayant une excentricité plus importante. Que vaut la période selon votre simulation ? Est-ce que cette valeur valide la troisième loi de Kepler ?\n",
    "\n",
    "### Un système à n corps\n",
    "\n",
    "Dans la partie 3, nous avons étudié un système à deux corps (le Soleil et la Terre). Pouvez-vous généraliser l'algorithme à plusieurs corps ? (Par exemple : le Soleil plus l'ensemble des planètes du [système solaire](https://fr.wikipedia.org/wiki/Syst%C3%A8me_solaire)). On garde l'approche itérative de base, mais à chaque itération il faudra calculer toutes les forces par paire (par exemple, la force Soleil-Terre, la force Soleil-Mars, la force Terre-Mars, ...) puis pour chaque corps calculer la somme vectorielle des forces (la résultante), puis en déduire l'accéleration, puis mettre à jour la position et la vitesse. L'orbite de la Terre, est-elle sensible à la présence des autres planètes ?\n",
    "\n",
    "### D'autres systèmes\n",
    "\n",
    "À l'aide de [la base de données NASA](https://exoplanetarchive.ipac.caltech.edu/cgi-bin/TblView/nph-tblView?app=ExoTbls&config=PS), vous pouvez simuler l'évolution d'un système astre-exoplanète. Se comporte-il d'une manière similaire à notre système solaire ? Y-a-t'il des différences ?"
   ]
  },
  {
   "cell_type": "markdown",
   "id": "humanitarian-reminder",
   "metadata": {},
   "source": [
    "----\n",
    "(Image du planétaire : Birmingham Museums Trust, via [Wikimedia Commons](https://en.wikipedia.org/wiki/File:Thinktank_Birmingham_-_object_1956S00682.00001(1).jpg))"
   ]
  }
 ],
 "metadata": {
  "kernelspec": {
   "display_name": "Python 3 (ipykernel)",
   "language": "python",
   "name": "python3"
  },
  "language_info": {
   "codemirror_mode": {
    "name": "ipython",
    "version": 3
   },
   "file_extension": ".py",
   "mimetype": "text/x-python",
   "name": "python",
   "nbconvert_exporter": "python",
   "pygments_lexer": "ipython3",
   "version": "3.11.4"
  }
 },
 "nbformat": 4,
 "nbformat_minor": 5
}
